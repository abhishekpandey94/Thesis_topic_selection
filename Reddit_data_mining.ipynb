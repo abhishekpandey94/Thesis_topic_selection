{
  "nbformat": 4,
  "nbformat_minor": 0,
  "metadata": {
    "colab": {
      "name": "Reddit_data_mining.ipynb",
      "provenance": [],
      "authorship_tag": "ABX9TyOIEcRcgS8W1nWFbZ/Obf9e",
      "include_colab_link": true
    },
    "kernelspec": {
      "name": "python3",
      "display_name": "Python 3"
    }
  },
  "cells": [
    {
      "cell_type": "markdown",
      "metadata": {
        "id": "view-in-github",
        "colab_type": "text"
      },
      "source": [
        "<a href=\"https://colab.research.google.com/github/abhishekpandey94/Thesis_topic_selection/blob/main/Reddit_data_mining.ipynb\" target=\"_parent\"><img src=\"https://colab.research.google.com/assets/colab-badge.svg\" alt=\"Open In Colab\"/></a>"
      ]
    },
    {
      "cell_type": "code",
      "metadata": {
        "id": "p-fvW0qR6sKb"
      },
      "source": [
        "# importing libraries and establishing connection between Reddit and Python through PRAW\r\n",
        "\r\n",
        "import praw\r\n",
        "import os\r\n",
        "os.chdir(\"C:\\\\Users\\\\abhishekpandey\\\\Desktop\")\r\n",
        "\r\n",
        "\r\n",
        "\r\n",
        "# creating and authenticating Python Reddit Connection\r\n",
        "reddit = praw.Reddit(client_id='xxxxxxxx',\r\n",
        "                     client_secret='xxxxxx',\r\n",
        "                     password='xxxxxxx',\r\n",
        "                     user_agent= 'app name by /u/username',\r\n",
        "                     username=' reddit username')\r\n",
        "\r\n",
        "\r\n",
        "print(reddit.user.me())"
      ],
      "execution_count": null,
      "outputs": []
    },
    {
      "cell_type": "code",
      "metadata": {
        "id": "8g-kHdiR7CEq"
      },
      "source": [
        "#Creating placeholder files to write posts filtered by categories  - #Hot/top posts, New post, comments, etc \r\n",
        "\r\n",
        "file1= \"reddit_hot_post.txt\"\r\n",
        "file2= \"reddit_new_post.txt\"\r\n",
        "file3= \"reddit_comments.txt\""
      ],
      "execution_count": null,
      "outputs": []
    },
    {
      "cell_type": "code",
      "metadata": {
        "id": "om6XoT-b7HK7"
      },
      "source": [
        "# Extracting 200 hot / trending posts\r\n",
        "\r\n",
        "with open(file1,'w+') as post_file:\r\n",
        "    for submissions in reddit.subreddit('Subreddit_name').top(limit=200):\r\n",
        "        print(submissions.title)\r\n",
        "        try:\r\n",
        "            {\r\n",
        "              post_file.write(submissions.title)\r\n",
        "            }\r\n",
        "        except:\r\n",
        "            {\r\n",
        "              print(\"error\")\r\n",
        "            }\r\n",
        "        post_file.write(\"\\n\")\r\n",
        "\r\n",
        "post_file.close()\r\n"
      ],
      "execution_count": null,
      "outputs": []
    },
    {
      "cell_type": "code",
      "metadata": {
        "id": "HqK9SiZr7PPd"
      },
      "source": [
        "# Extracting 200 new posts\r\n",
        "    \r\n",
        "with open(file3,'w+') as newpost_file:\r\n",
        "    for new_submissions in reddit.subreddit('Subreddit_name').new(limit=200):\r\n",
        "        print(new_submissions.title) \r\n",
        "        try:\r\n",
        "            {\r\n",
        "              newpost_file.write(new_submissions.title)\r\n",
        "            }\r\n",
        "        except:\r\n",
        "            {\r\n",
        "              print(\"error\")\r\n",
        "            }\r\n",
        "        newpost_file.write(\"\\n\")\r\n",
        "        \r\n",
        "newpost_file.close()    \r\n"
      ],
      "execution_count": null,
      "outputs": []
    },
    {
      "cell_type": "code",
      "metadata": {
        "id": "Dzqub3OU7URU"
      },
      "source": [
        "# Extracting Comments for a specific posts\r\n",
        "with open(file2,'w+') as comment_file:\r\n",
        "    \r\n",
        "    urls = {'A list of URL for the posts for which comments have to be extracted'} \r\n",
        "            \r\n",
        "            \r\n",
        "    for link in urls:\r\n",
        "        \r\n",
        "        submission =reddit.submission(url=link)\r\n",
        "      \r\n",
        "        for top_level_comment in submission.comments:\r\n",
        "            \r\n",
        "                 i=i+1   \r\n",
        "                 print(top_level_comment.body)\r\n",
        "                 \r\n",
        "                 try:\r\n",
        "                     {\r\n",
        "                                        comment_file.write(top_level_comment.body)                      \r\n",
        "                     }\r\n",
        "                 \r\n",
        "                 except Exception :\r\n",
        "                      print(\"error\")\r\n",
        "                      pass\r\n",
        "                     \r\n",
        "          \r\n",
        "    print(\"no of comments for the post: \",i)\r\n",
        "\r\n",
        "    \r\n",
        "comment_file.close()"
      ],
      "execution_count": null,
      "outputs": []
    },
    {
      "cell_type": "code",
      "metadata": {
        "id": "or0nzfzg7YOm"
      },
      "source": [
        "# For extracting all comments/ trees for a particular subreddit\r\n",
        "for comments in reddit.subreddits('subreddit_name').comments(limit=1000):\r\n",
        "    with open(file3,'w+') as comment_file:\r\n",
        "        try:\r\n",
        "            {\r\n",
        "              comment_file.write(comments)\r\n",
        "            }\r\n",
        "        except:\r\n",
        "            {\r\n",
        "              print(\"error\")\r\n",
        "            }\r\n",
        "        comment_file.write(\"\\n\")\r\n",
        "    comment_file.close()    "
      ],
      "execution_count": null,
      "outputs": []
    }
  ]
}