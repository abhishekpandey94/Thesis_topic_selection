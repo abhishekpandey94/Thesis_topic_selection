{
  "nbformat": 4,
  "nbformat_minor": 0,
  "metadata": {
    "colab": {
      "name": "Twitter_data_mining.ipynb",
      "provenance": [],
      "authorship_tag": "ABX9TyOI6wr8IwFIJtK5m4JsvKrK",
      "include_colab_link": true
    },
    "kernelspec": {
      "name": "python3",
      "display_name": "Python 3"
    }
  },
  "cells": [
    {
      "cell_type": "markdown",
      "metadata": {
        "id": "view-in-github",
        "colab_type": "text"
      },
      "source": [
        "<a href=\"https://colab.research.google.com/github/abhishekpandey94/Thesis_topic_selection/blob/main/Twitter_data_mining.ipynb\" target=\"_parent\"><img src=\"https://colab.research.google.com/assets/colab-badge.svg\" alt=\"Open In Colab\"/></a>"
      ]
    },
    {
      "cell_type": "code",
      "metadata": {
        "id": "GX8CuzTn10L0"
      },
      "source": [
        "# import libraries\r\n",
        "\r\n",
        "import os\r\n",
        "import tweepy as tw\r\n",
        "import pandas as pd"
      ],
      "execution_count": null,
      "outputs": []
    },
    {
      "cell_type": "code",
      "metadata": {
        "id": "aOS-xyqj16xI"
      },
      "source": [
        "# Establish Credentials for Twitter API access\r\n",
        "\r\n",
        "consumer_key= 'nD7C4FOVTVOgQBKmNuwM8Rzzj'\r\n",
        "consumer_secret= 'HXPOq8dyBlb9agcZ3U37zIhGr7VEf3GnWYVkafRGiqfvytZTCv'\r\n",
        "access_token= '823826884379209728-fDb1VHMTjQXf6edifUuLkRAz8iiPTSS'\r\n",
        "access_token_secret= 'nVnp2hG32RrQgNE8pKGFWw0ilm0iXgo8G8rFjmn37zXrb'"
      ],
      "execution_count": null,
      "outputs": []
    },
    {
      "cell_type": "code",
      "metadata": {
        "id": "VZFjmAKt2NRl"
      },
      "source": [
        "# Passing credentials for API access\r\n",
        "\r\n",
        "auth = tw.OAuthHandler(consumer_key, consumer_secret)\r\n",
        "auth.set_access_token(access_token, access_token_secret)\r\n",
        "api = tw.API(auth, wait_on_rate_limit=True)"
      ],
      "execution_count": null,
      "outputs": []
    },
    {
      "cell_type": "code",
      "metadata": {
        "id": "_JYdxhh72clM"
      },
      "source": [
        "# Parameters for data pull\r\n",
        "\r\n",
        "search_words = \"@SuperBowl\"\r\n",
        "date_since = \"2021-01-01\""
      ],
      "execution_count": null,
      "outputs": []
    },
    {
      "cell_type": "code",
      "metadata": {
        "colab": {
          "base_uri": "https://localhost:8080/"
        },
        "id": "wtMkGBME25y_",
        "outputId": "02939435-8cdb-4540-e5fa-de471d4d1701"
      },
      "source": [
        "# Passing parameters for pulling twitter data\r\n",
        "\r\n",
        "tweets = tw.Cursor(api.search,\r\n",
        "              q=search_words,\r\n",
        "              lang=\"en\",\r\n",
        "              since=date_since).items(100)\r\n",
        "tweets"
      ],
      "execution_count": null,
      "outputs": [
        {
          "output_type": "execute_result",
          "data": {
            "text/plain": [
              "<tweepy.cursor.ItemIterator at 0x7f1457a0ea58>"
            ]
          },
          "metadata": {
            "tags": []
          },
          "execution_count": 14
        }
      ]
    },
    {
      "cell_type": "code",
      "metadata": {
        "colab": {
          "base_uri": "https://localhost:8080/"
        },
        "id": "GXHin3Hb3Fwz",
        "outputId": "2b87c382-3b1f-47fa-d108-c6b1e34b4676"
      },
      "source": [
        "# Printing the tweets pulled\r\n",
        "\r\n",
        "for tweet in tweets:\r\n",
        "    print(tweet.text)"
      ],
      "execution_count": null,
      "outputs": [
        {
          "output_type": "stream",
          "text": [
            "RT @iprayforrains: i can see the vision.... @NFL let’s make @AvaMax x @SuperBowl happen https://t.co/SYVGcvXgr3\n",
            "Happy Birthday to the late James David “Buddy” Ryan, out of Frederick, Oklahoma and @CowboyFB : Sergeant @USArmy… https://t.co/4pMPEctvcc\n",
            "RT @LarryInMissouri: Happy Birthday Guy McIntyre, out of Thomasville, Georgia and @GeorgiaFootball 2X All @SEC 2X @SEC Champion, 13 year @N…\n",
            "Happy Birthday Guy McIntyre, out of Thomasville, Georgia and @GeorgiaFootball 2X All @SEC 2X @SEC Champion, 13 year… https://t.co/xXz9mFoWiO\n",
            "RT @HardRockStadium: Back and better than ever 🤩\n",
            "\n",
            "The @SuperBowl returns to South Florida for a record 11th time! &gt;&gt; https://t.co/8gKAm4kKD…\n",
            "Based on our recent highly anticipated report on audience #attention across 66 @SuperBowl ads, @RocketMortgage &amp;… https://t.co/M2qmra4rGI\n",
            "71 days until the 2021 #NFL Draft in Cleveland, OH. And # of DE @CharlesMann71, 83 career sacks w/#Washington (82)… https://t.co/hGcjsdbbky\n",
            "RT @DanielPlatzman: We at @kulturec are excited to roll out our latest #sensoryroom in partnership with the @NFL for @SuperBowl LV at @RJSt…\n",
            "RT @Tim_Mc_Garry: Sincerely hope that #gregorycampbell is not watching @superbowl. There are so many black people on TV his head might expl…\n",
            "RT @Laurie_Garrett: Let's not forget all that @SuperBowl maskless partying across Florida, especially Tampa -- an event textbook designed t…\n",
            "We all went to bed last Sunday at midnight thinking @TomBrady had won the @SuperBowl. Now we read on the Internet t… https://t.co/KBbEXvU7A0\n",
            "THIS JUST IN... \n",
            "THE @NFL FOUND 23 ADDITIONAL POINTS FOR THE @CHIEFS FROM MAIL-IN TOUCHDOWNS, AND, BASED ON OUTCRY… https://t.co/WF2fZLmQ3k\n",
            "RT @danhendo: I'm glad that both teams that will be playing @SuperBowl will be present for the national anthem.  I'm tired of seeing player…\n",
            "RT @Laurie_Garrett: Let's not forget all that @SuperBowl maskless partying across Florida, especially Tampa -- an event textbook designed t…\n",
            "Day 10 of trying to get @twentyonepilots in the @SuperBowl LVI halftime show. @NFL #SuperBowl #twentyonepilots #NFL\n",
            "RT @Laurie_Garrett: Let's not forget all that @SuperBowl maskless partying across Florida, especially Tampa -- an event textbook designed t…\n",
            "Wow.\n",
            "\n",
            "In-Game @SuperBowl #Advertising This Year Jumped 21% Higher To $545 Million, Says @Kantar:… https://t.co/BwNQDcLNEZ\n",
            "RT @Laurie_Garrett: Let's not forget all that @SuperBowl maskless partying across Florida, especially Tampa -- an event textbook designed t…\n",
            "RT @Laurie_Garrett: Let's not forget all that @SuperBowl maskless partying across Florida, especially Tampa -- an event textbook designed t…\n",
            "RT @Laurie_Garrett: Let's not forget all that @SuperBowl maskless partying across Florida, especially Tampa -- an event textbook designed t…\n",
            "72 days until the 2021 #NFL Draft in Cleveland, OH. And # of #Washington DE Dexter Manley, career-high 18.5 sacks i… https://t.co/7PPR7krbGN\n",
            "RT @DoshiDj: What a awesome kick off at @SuperBowl with @NGHTMRE &amp; @ASAPferg 🔥🔥🔥Trap music💯\n",
            "A lot happened during the @SuperBowl halftime show, I broke down @theweeknd's performance and explained why it's be… https://t.co/pEVDwLH1Km\n",
            "@NewsWeeknd @theweeknd 13years and this guy never stop it  is unstoppable 🐐🥇@NFL @SuperBowl .... @theweeknd you are… https://t.co/GTxdd5gLhu\n",
            "RT @NotKunAbod: I will be back here and i will be back @SuperBowl with a vengeance💪🏻🃏@gkittle46 https://t.co/78m8xW0qCf\n",
            "I will be back here and i will be back @SuperBowl with a vengeance💪🏻🃏@gkittle46 https://t.co/78m8xW0qCf\n",
            "RT @Laurie_Garrett: Let's not forget all that @SuperBowl maskless partying across Florida, especially Tampa -- an event textbook designed t…\n",
            "RT @redacted_mag: Redacted's @jshinagler breaks down three hypocrisies that underlined this year’s @SuperBowl ...\n",
            "\n",
            "https://t.co/Mb8QbHSjxr\n",
            "RT @Laurie_Garrett: Let's not forget all that @SuperBowl maskless partying across Florida, especially Tampa -- an event textbook designed t…\n",
            "RT @Laurie_Garrett: Let's not forget all that @SuperBowl maskless partying across Florida, especially Tampa -- an event textbook designed t…\n",
            "@RealSkipBayless @undisputed I think Mahomes gets by on pure athletic ability. Because in the @SuperBowl he looked… https://t.co/V4HpotPTcv\n",
            "RT @Laurie_Garrett: Let's not forget all that @SuperBowl maskless partying across Florida, especially Tampa -- an event textbook designed t…\n",
            "This would be a @SuperBowl signing for @Browns https://t.co/G178W7JOoR @Yahoo @AOL @JJWatt @NFL @NFLDraft… https://t.co/jVrQKfYgne\n",
            "@SuperBowl you really let some homophobic artist perform at the super bowl?? like come on....he didnt even apologised for it\n",
            "@Laurie_Garrett @SuperBowl az just had highest airport travel since start of covid, what?\n",
            "RT @Laurie_Garrett: Let's not forget all that @SuperBowl maskless partying across Florida, especially Tampa -- an event textbook designed t…\n",
            "RT @Laurie_Garrett: Let's not forget all that @SuperBowl maskless partying across Florida, especially Tampa -- an event textbook designed t…\n",
            "RT @redacted_mag: Redacted's @jshinagler breaks down three hypocrisies that underlined this year’s @SuperBowl ...\n",
            "\n",
            "https://t.co/Mb8QbHSjxr\n",
            "RT @Laurie_Garrett: Let's not forget all that @SuperBowl maskless partying across Florida, especially Tampa -- an event textbook designed t…\n",
            "RT @SportsStoriesDL: @TBLightning :  43–21–6 record, Victor Headman, @TeamHedman @StanleyCup MVP / @Dodgers 43-17, @CoreySeager_5 WS MVP /…\n",
            "RT @Laurie_Garrett: Let's not forget all that @SuperBowl maskless partying across Florida, especially Tampa -- an event textbook designed t…\n",
            "RT @Laurie_Garrett: Let's not forget all that @SuperBowl maskless partying across Florida, especially Tampa -- an event textbook designed t…\n",
            "Redacted's @jshinagler breaks down three hypocrisies that underlined this year’s @SuperBowl ...\n",
            "\n",
            "https://t.co/Mb8QbHSjxr\n",
            "RT @Laurie_Garrett: Let's not forget all that @SuperBowl maskless partying across Florida, especially Tampa -- an event textbook designed t…\n",
            "RT @JR_Sandlin: RECRUITs: According to the ESPN Recruiting Rankings the @SuperBowl has..\n",
            "\n",
            "   1 | FIVE Star Athlete\n",
            "20 | FOUR Stars Athletes…\n",
            "RT @Laurie_Garrett: Let's not forget all that @SuperBowl maskless partying across Florida, especially Tampa -- an event textbook designed t…\n",
            "@Laurie_Garrett @SuperBowl Pls join us/recommend/send reporters \"Yes You Can Fellowship\" serving the Broward Homele… https://t.co/9kGkex0C6Q\n",
            "RT @Laurie_Garrett: Let's not forget all that @SuperBowl maskless partying across Florida, especially Tampa -- an event textbook designed t…\n",
            "RT @Laurie_Garrett: Let's not forget all that @SuperBowl maskless partying across Florida, especially Tampa -- an event textbook designed t…\n",
            "RT @Laurie_Garrett: Let's not forget all that @SuperBowl maskless partying across Florida, especially Tampa -- an event textbook designed t…\n",
            "RT @Laurie_Garrett: Let's not forget all that @SuperBowl maskless partying across Florida, especially Tampa -- an event textbook designed t…\n",
            "RT @Laurie_Garrett: Let's not forget all that @SuperBowl maskless partying across Florida, especially Tampa -- an event textbook designed t…\n",
            "@Laurie_Garrett @SuperBowl Also the Daytona 500 and Daytona Bike Week last year may have been big super spreader ev… https://t.co/7Ks0dzTS9p\n",
            "🤔Ummm... Y is @espn promoting &amp; pushing that my @Browns trade @obj. #FOH with the #PropagandaFakeNews. We ♥ @obj &amp;… https://t.co/noL3c6GQLI\n",
            "RT @Laurie_Garrett: Let's not forget all that @SuperBowl maskless partying across Florida, especially Tampa -- an event textbook designed t…\n",
            "@BigDre1909 @MariahCarey @SuperBowl She has turned it down twice 😭😭\n",
            "Let’s hope she gets the offer again🥰\n",
            "RT @Laurie_Garrett: Let's not forget all that @SuperBowl maskless partying across Florida, especially Tampa -- an event textbook designed t…\n",
            "RT @Laurie_Garrett: Let's not forget all that @SuperBowl maskless partying across Florida, especially Tampa -- an event textbook designed t…\n",
            "RT @Laurie_Garrett: Let's not forget all that @SuperBowl maskless partying across Florida, especially Tampa -- an event textbook designed t…\n",
            "RT @Laurie_Garrett: Let's not forget all that @SuperBowl maskless partying across Florida, especially Tampa -- an event textbook designed t…\n",
            "@Laurie_Garrett @SuperBowl I haven’t forgotten\n",
            "RT @Laurie_Garrett: Let's not forget all that @SuperBowl maskless partying across Florida, especially Tampa -- an event textbook designed t…\n",
            "RT @Laurie_Garrett: Let's not forget all that @SuperBowl maskless partying across Florida, especially Tampa -- an event textbook designed t…\n",
            "@saclando @SuperBowl !!!!!!! Thank you!! I don't know how you found him. Wow. That's awesome. What's your Venmo? I owe you $20!\n",
            "@Laurie_Garrett @SuperBowl @DrEricDing @kavitapmd \n",
            "\n",
            "Matt @mattgaetz @GovRonDeSantis probably need to film a PSA (AS… https://t.co/N6jClvbrh3\n",
            "RT @Laurie_Garrett: Let's not forget all that @SuperBowl maskless partying across Florida, especially Tampa -- an event textbook designed t…\n",
            "@TBLightning :  43–21–6 record, Victor Headman, @TeamHedman @StanleyCup MVP / @Dodgers 43-17, @CoreySeager_5 WS MVP… https://t.co/s7QuHDGLOB\n",
            "RT @Laurie_Garrett: Let's not forget all that @SuperBowl maskless partying across Florida, especially Tampa -- an event textbook designed t…\n",
            "SSDL POLL:  What's the best Pro Sports City for 2020?  \n",
            "LA or Tampa Bay?\n",
            "- @CityLosAngeles - @WorldSeries champion… https://t.co/NaBkbSmoWW\n",
            "RT @Laurie_Garrett: Let's not forget all that @SuperBowl maskless partying across Florida, especially Tampa -- an event textbook designed t…\n",
            "@Laurie_Garrett @ZekeEmanuel @SuperBowl You can remind him all@you want, he’s not listening and doesn’t care.\n",
            "RT @Laurie_Garrett: Let's not forget all that @SuperBowl maskless partying across Florida, especially Tampa -- an event textbook designed t…\n",
            "RT @Laurie_Garrett: Let's not forget all that @SuperBowl maskless partying across Florida, especially Tampa -- an event textbook designed t…\n",
            "@Laurie_Garrett @SuperBowl Super Bowl should have been rescheduled for April or May. There was no good reason to ke… https://t.co/axSsAI96pr\n",
            "@Laurie_Garrett @SuperBowl Did you see the stands at the Daytona 500? My 80s parents in FL can't get a vaccine appt.\n",
            "RT @Laurie_Garrett: Let's not forget all that @SuperBowl maskless partying across Florida, especially Tampa -- an event textbook designed t…\n",
            "RT @Laurie_Garrett: Let's not forget all that @SuperBowl maskless partying across Florida, especially Tampa -- an event textbook designed t…\n",
            "RT @Laurie_Garrett: Let's not forget all that @SuperBowl maskless partying across Florida, especially Tampa -- an event textbook designed t…\n",
            "RT @Laurie_Garrett: Let's not forget all that @SuperBowl maskless partying across Florida, especially Tampa -- an event textbook designed t…\n",
            "RT @Laurie_Garrett: Let's not forget all that @SuperBowl maskless partying across Florida, especially Tampa -- an event textbook designed t…\n",
            "RT @Laurie_Garrett: Let's not forget all that @SuperBowl maskless partying across Florida, especially Tampa -- an event textbook designed t…\n",
            "RT @Laurie_Garrett: Let's not forget all that @SuperBowl maskless partying across Florida, especially Tampa -- an event textbook designed t…\n",
            "RT @Laurie_Garrett: Let's not forget all that @SuperBowl maskless partying across Florida, especially Tampa -- an event textbook designed t…\n",
            "RT @Laurie_Garrett: Let's not forget all that @SuperBowl maskless partying across Florida, especially Tampa -- an event textbook designed t…\n",
            "RT @Laurie_Garrett: Let's not forget all that @SuperBowl maskless partying across Florida, especially Tampa -- an event textbook designed t…\n",
            "RT @Laurie_Garrett: Let's not forget all that @SuperBowl maskless partying across Florida, especially Tampa -- an event textbook designed t…\n",
            "Let's not forget all that @SuperBowl maskless partying across Florida, especially Tampa -- an event textbook design… https://t.co/xwpAYAmPcV\n",
            "We need @MariahCarey to do the @SuperBowl it has to happen, and it’s a shame she hasn’t done it yet. #MariahCarey… https://t.co/YJ1q4M7NKz\n",
            "RT @LarryInMissouri: Happy Birthday Jerome Bettis, “The Bus”, out of Detroit, Michigan and @NDFootball 13 year @NFL career, 13,664 yards wi…\n",
            "@ThomasXNDK @Chiefs @PatrickMahomes @ChiefsReporter @mitchholthus @MecoleHardman4 @SuperBowl @CedEntertainer… https://t.co/Ps9m0xD1c6\n",
            "@kriskross22 @SuperBowl https://t.co/OetxueUEHY\n",
            "\n",
            "Random, but this is the same section that I found the cutout I got… https://t.co/jiParl5T38\n",
            "RT @Vegalteno: It was cool but I would have preferred @RandyRainbow doing the halftime @SuperBowl entertainment.\n",
            "RT @JR_Sandlin: RECRUITs: According to the ESPN Recruiting Rankings the @SuperBowl has..\n",
            "\n",
            "   1 | FIVE Star Athlete\n",
            "20 | FOUR Stars Athletes…\n",
            "Cancelling Gasparilla after the @Buccaneers won the @SuperBowl at @RJStadium is blasphemous! We were all ready to g… https://t.co/oaIVOpNbyI\n",
            "How the Buccaneers Defense Shut Down Patrick Mahomes in #SuperBowl LV | NFL #TurningPoint\n",
            "🏈https://t.co/beRlzaPuFX… https://t.co/I37S2NkpiO\n",
            "Good! We don't need a new #SuperSpreaderEvent, esp. after the @SuperBowl was here. Let us come down in cases, hospi… https://t.co/FhqRquNLWX\n",
            "Proper Celebratiing: The Super Bowl Century. Two wheels, one winter day.\n",
            "#bikelife #bikenyc #longliverides @gfny… https://t.co/gm39rYTRPQ\n",
            "@BlueJays @theweeknd @NewsWeeknd @tesfayetoday @AbelsOutfits @NFL @NFLCanada @AroundTheNFL @NFLGameDay @SuperBowl… https://t.co/UOps5hORq0\n",
            "RT @AKocheilas: The Brady Bunch - Ogilvy’s 9 takeaways from Super Bowl LV’s Ads @Ogilvy @SuperBowl @WPP\n",
            "Investigators seize thousands of counterfeit items, including trophies after @SuperBowl  https://t.co/xbycVTQVys\n"
          ],
          "name": "stdout"
        }
      ]
    },
    {
      "cell_type": "code",
      "metadata": {
        "colab": {
          "base_uri": "https://localhost:8080/",
          "height": 419
        },
        "id": "5OpTozqn3OSM",
        "outputId": "d0db05d8-39d2-4553-f767-f0d84d51c127"
      },
      "source": [
        "# establish new search paramenters\r\n",
        "\r\n",
        "new_search = search_words + \" -filter:retweets\"\r\n",
        "new_search\r\n",
        "\r\n",
        "tweets = tw.Cursor(api.search,\r\n",
        "                       q=new_search,\r\n",
        "                       lang=\"en\",\r\n",
        "                       since=date_since).items(1000)\r\n",
        "\r\n",
        "tweet_details = [[tweet.text, tweet.created_at, tweet.user.location, tweet.retweet_count, tweet.favorite_count] for tweet in tweets]\r\n",
        "twitter_data = pd.DataFrame(data=tweet_details, \r\n",
        "                    columns=['tweet_text', 'date', 'location', \"retweet_count\", 'favourite_count'])\r\n",
        "\r\n",
        "twitter_data"
      ],
      "execution_count": null,
      "outputs": [
        {
          "output_type": "execute_result",
          "data": {
            "text/html": [
              "<div>\n",
              "<style scoped>\n",
              "    .dataframe tbody tr th:only-of-type {\n",
              "        vertical-align: middle;\n",
              "    }\n",
              "\n",
              "    .dataframe tbody tr th {\n",
              "        vertical-align: top;\n",
              "    }\n",
              "\n",
              "    .dataframe thead th {\n",
              "        text-align: right;\n",
              "    }\n",
              "</style>\n",
              "<table border=\"1\" class=\"dataframe\">\n",
              "  <thead>\n",
              "    <tr style=\"text-align: right;\">\n",
              "      <th></th>\n",
              "      <th>tweet_text</th>\n",
              "      <th>date</th>\n",
              "      <th>location</th>\n",
              "      <th>retweet_count</th>\n",
              "      <th>favourite_count</th>\n",
              "    </tr>\n",
              "  </thead>\n",
              "  <tbody>\n",
              "    <tr>\n",
              "      <th>0</th>\n",
              "      <td>Happy Birthday to the late James David “Buddy”...</td>\n",
              "      <td>2021-02-17 11:42:10</td>\n",
              "      <td>Oklahoma, USA</td>\n",
              "      <td>0</td>\n",
              "      <td>2</td>\n",
              "    </tr>\n",
              "    <tr>\n",
              "      <th>1</th>\n",
              "      <td>Happy Birthday Guy McIntyre, out of Thomasvill...</td>\n",
              "      <td>2021-02-17 11:20:32</td>\n",
              "      <td>Oklahoma, USA</td>\n",
              "      <td>1</td>\n",
              "      <td>2</td>\n",
              "    </tr>\n",
              "    <tr>\n",
              "      <th>2</th>\n",
              "      <td>Based on our recent highly anticipated report ...</td>\n",
              "      <td>2021-02-17 11:13:04</td>\n",
              "      <td>London</td>\n",
              "      <td>0</td>\n",
              "      <td>0</td>\n",
              "    </tr>\n",
              "    <tr>\n",
              "      <th>3</th>\n",
              "      <td>71 days until the 2021 #NFL Draft in Cleveland...</td>\n",
              "      <td>2021-02-17 10:44:46</td>\n",
              "      <td>Cheshire, CT</td>\n",
              "      <td>0</td>\n",
              "      <td>1</td>\n",
              "    </tr>\n",
              "    <tr>\n",
              "      <th>4</th>\n",
              "      <td>We all went to bed last Sunday at midnight thi...</td>\n",
              "      <td>2021-02-17 07:39:14</td>\n",
              "      <td></td>\n",
              "      <td>0</td>\n",
              "      <td>0</td>\n",
              "    </tr>\n",
              "    <tr>\n",
              "      <th>...</th>\n",
              "      <td>...</td>\n",
              "      <td>...</td>\n",
              "      <td>...</td>\n",
              "      <td>...</td>\n",
              "      <td>...</td>\n",
              "    </tr>\n",
              "    <tr>\n",
              "      <th>964</th>\n",
              "      <td>@PaniniAmerica @Buccaneers @SuperBowl @NFL @NF...</td>\n",
              "      <td>2021-02-09 17:35:21</td>\n",
              "      <td>🐪🏝☀️</td>\n",
              "      <td>0</td>\n",
              "      <td>0</td>\n",
              "    </tr>\n",
              "    <tr>\n",
              "      <th>965</th>\n",
              "      <td>@PaniniAmerica @Buccaneers @SuperBowl @NFL @NF...</td>\n",
              "      <td>2021-02-09 17:34:52</td>\n",
              "      <td>🐪🏝☀️</td>\n",
              "      <td>0</td>\n",
              "      <td>0</td>\n",
              "    </tr>\n",
              "    <tr>\n",
              "      <th>966</th>\n",
              "      <td>@USC_FB @rojo @SuperBowl @pac12 @USC_Athletics...</td>\n",
              "      <td>2021-02-09 17:32:49</td>\n",
              "      <td>Glendora</td>\n",
              "      <td>0</td>\n",
              "      <td>0</td>\n",
              "    </tr>\n",
              "    <tr>\n",
              "      <th>967</th>\n",
              "      <td>Yesterday we got the chance to talk with the e...</td>\n",
              "      <td>2021-02-09 17:32:27</td>\n",
              "      <td>Chicago, IL</td>\n",
              "      <td>2</td>\n",
              "      <td>2</td>\n",
              "    </tr>\n",
              "    <tr>\n",
              "      <th>968</th>\n",
              "      <td>@EmmaDebord @LaurelAynne I think @Jeep did a g...</td>\n",
              "      <td>2021-02-09 17:30:39</td>\n",
              "      <td></td>\n",
              "      <td>0</td>\n",
              "      <td>1</td>\n",
              "    </tr>\n",
              "  </tbody>\n",
              "</table>\n",
              "<p>969 rows × 5 columns</p>\n",
              "</div>"
            ],
            "text/plain": [
              "                                            tweet_text  ... favourite_count\n",
              "0    Happy Birthday to the late James David “Buddy”...  ...               2\n",
              "1    Happy Birthday Guy McIntyre, out of Thomasvill...  ...               2\n",
              "2    Based on our recent highly anticipated report ...  ...               0\n",
              "3    71 days until the 2021 #NFL Draft in Cleveland...  ...               1\n",
              "4    We all went to bed last Sunday at midnight thi...  ...               0\n",
              "..                                                 ...  ...             ...\n",
              "964  @PaniniAmerica @Buccaneers @SuperBowl @NFL @NF...  ...               0\n",
              "965  @PaniniAmerica @Buccaneers @SuperBowl @NFL @NF...  ...               0\n",
              "966  @USC_FB @rojo @SuperBowl @pac12 @USC_Athletics...  ...               0\n",
              "967  Yesterday we got the chance to talk with the e...  ...               2\n",
              "968  @EmmaDebord @LaurelAynne I think @Jeep did a g...  ...               1\n",
              "\n",
              "[969 rows x 5 columns]"
            ]
          },
          "metadata": {
            "tags": []
          },
          "execution_count": 16
        }
      ]
    },
    {
      "cell_type": "code",
      "metadata": {
        "id": "0kMc1t7B5N9L"
      },
      "source": [
        ""
      ],
      "execution_count": null,
      "outputs": []
    }
  ]
}